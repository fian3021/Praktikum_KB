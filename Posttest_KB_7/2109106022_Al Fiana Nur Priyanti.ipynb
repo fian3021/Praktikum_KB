{
 "cells": [
  {
   "cell_type": "markdown",
   "id": "6cf46479",
   "metadata": {},
   "source": [
    "### Nama : Al Fiana Nur Priyanti <br> NIM : 2109106022\n",
    "\n",
    "# Posttest KB 7: Pengenalan Tensorflow\n",
    "## Import Library"
   ]
  },
  {
   "cell_type": "code",
   "execution_count": 66,
   "id": "68412a3c",
   "metadata": {},
   "outputs": [],
   "source": [
    "import tensorflow as tf"
   ]
  },
  {
   "cell_type": "markdown",
   "id": "2d1e6755",
   "metadata": {},
   "source": [
    "## Instruksi 1: Buatlah sebuah tensor dengan shape(5,5) dengan nilai random yang disimpan dalam variable random_tensor."
   ]
  },
  {
   "cell_type": "code",
   "execution_count": 67,
   "id": "426ac2c2",
   "metadata": {},
   "outputs": [
    {
     "data": {
      "text/plain": [
       "<tf.Tensor: shape=(5, 5), dtype=float32, numpy=\n",
       "array([[ 1.1337056 , -0.42507994,  1.4856426 , -0.21148287,  3.1926441 ],\n",
       "       [-0.75514704,  0.7227887 , -0.87344414,  0.528661  ,  1.1474953 ],\n",
       "       [ 0.1748921 ,  0.07561827,  0.69876033, -0.41548777, -1.7608722 ],\n",
       "       [ 0.4911833 , -1.8575251 , -0.8524507 , -1.9621029 ,  1.1082697 ],\n",
       "       [-0.04285634, -0.03267585,  0.61398745, -1.4472647 , -3.0750885 ]],\n",
       "      dtype=float32)>"
      ]
     },
     "execution_count": 67,
     "metadata": {},
     "output_type": "execute_result"
    }
   ],
   "source": [
    "random_tensor = tf.random.normal([5,5])\n",
    "random_tensor"
   ]
  },
  {
   "cell_type": "markdown",
   "id": "cf289c24",
   "metadata": {},
   "source": [
    "## Instruksi 2: Buatlah sebuah tensor dengan shape(5,5) dari sebuah list dengan nilai bilangan prima dalam variable prime_tensor.\n",
    "\n",
    "tf.float32 = digunakan untuk membuat tipe data tensor sebagai float agar bisa di operasikan dengan variable random_tensor"
   ]
  },
  {
   "cell_type": "code",
   "execution_count": 68,
   "id": "40fd9d39",
   "metadata": {},
   "outputs": [
    {
     "data": {
      "text/plain": [
       "<tf.Tensor: shape=(5, 5), dtype=float32, numpy=\n",
       "array([[ 2.,  3.,  5.,  7., 11.],\n",
       "       [13., 17., 19., 23., 29.],\n",
       "       [31., 37., 41., 43., 47.],\n",
       "       [53., 59., 61., 67., 71.],\n",
       "       [73., 79., 83., 89., 97.]], dtype=float32)>"
      ]
     },
     "execution_count": 68,
     "metadata": {},
     "output_type": "execute_result"
    }
   ],
   "source": [
    "prime_tensor = tf.constant([[2, 3, 5, 7, 11],\n",
    "                            [13, 17, 19, 23, 29],\n",
    "                            [31, 37, 41, 43, 47],\n",
    "                            [53, 59, 61, 67, 71],\n",
    "                            [73, 79, 83, 89, 97]\n",
    "                           ], shape = [5,5], dtype=tf.float32)\n",
    "prime_tensor"
   ]
  },
  {
   "cell_type": "markdown",
   "id": "622e44ed",
   "metadata": {},
   "source": [
    "## Instruksi 3: Tampilkan dimensi dari dua variabel tersebut."
   ]
  },
  {
   "cell_type": "code",
   "execution_count": 69,
   "id": "6bcf1795",
   "metadata": {},
   "outputs": [
    {
     "name": "stdout",
     "output_type": "stream",
     "text": [
      "\n",
      "===========================================\n",
      "      T E N S O R   D I M E N S I O N\n",
      "===========================================\n",
      " Dimensi Random Tensor = TensorShape(5, 5)\n",
      " Dimensi Prime Tensor  = TensorShape(5, 5)\n",
      "\n"
     ]
    }
   ],
   "source": [
    "print(f\"\"\"\n",
    "===========================================\n",
    "      T E N S O R   D I M E N S I O N\n",
    "===========================================\n",
    " Dimensi Random Tensor = TensorShape{random_tensor.shape}\n",
    " Dimensi Prime Tensor  = TensorShape{prime_tensor.shape}\n",
    "\"\"\")"
   ]
  },
  {
   "cell_type": "markdown",
   "id": "50333cce",
   "metadata": {},
   "source": [
    "## Instruksi 4: Tampilkan hasil dari perhitungan aritmetika 2 variable tersebut (Gunakan minimal 5 operator)"
   ]
  },
  {
   "cell_type": "code",
   "execution_count": 70,
   "id": "28c46006",
   "metadata": {},
   "outputs": [
    {
     "name": "stdout",
     "output_type": "stream",
     "text": [
      "\n",
      "=========================================================================\n",
      "             H A S I L   O P E R A S I   A R I T M A T I K A\n",
      "=========================================================================\n",
      "                          P e n j u m l a h a n\n",
      "=========================================================================\n",
      "[[ 3.1337056  2.5749202  6.4856424  6.788517  14.192644 ]\n",
      " [12.244853  17.722788  18.126556  23.528662  30.147495 ]\n",
      " [31.174892  37.07562   41.69876   42.58451   45.23913  ]\n",
      " [53.491184  57.142475  60.14755   65.037895  72.10827  ]\n",
      " [72.957146  78.96732   83.61399   87.552734  93.92491  ]]\n",
      "\n",
      "=========================================================================\n",
      "                          P e n g u r a n g a n\n",
      "=========================================================================\n",
      "[[  -0.8662944   -3.4250798   -3.5143576   -7.211483    -7.807356 ]\n",
      " [ -13.755147   -16.277212   -19.873444   -22.471338   -27.852505 ]\n",
      " [ -30.825108   -36.92438    -40.30124    -43.41549    -48.76087  ]\n",
      " [ -52.508816   -60.857525   -61.85245    -68.962105   -69.89173  ]\n",
      " [ -73.042854   -79.03268    -82.38601    -90.447266  -100.07509  ]]\n",
      "\n",
      "=========================================================================\n",
      "                            P e r k a l i a n\n",
      "=========================================================================\n",
      "[[   2.2674112   -1.2752398    7.4282126   -1.48038     35.119087 ]\n",
      " [  -9.816912    12.287408   -16.595438    12.159204    33.277363 ]\n",
      " [   5.421655     2.7978761   28.649174   -17.865974   -82.760994 ]\n",
      " [  26.032715  -109.59398    -51.999493  -131.46089     78.68715  ]\n",
      " [  -3.128513    -2.581392    50.960957  -128.80655   -298.28357  ]]\n",
      "\n",
      "=========================================================================\n",
      "                            P e m b a g i a n\n",
      "=========================================================================\n",
      "[[ 5.6685281e-01 -1.4169331e-01  2.9712850e-01 -3.0211838e-02\n",
      "   2.9024038e-01]\n",
      " [-5.8088236e-02  4.2516980e-02 -4.5970745e-02  2.2985261e-02\n",
      "   3.9568804e-02]\n",
      " [ 5.6416807e-03  2.0437371e-03  1.7042935e-02 -9.6625062e-03\n",
      "  -3.7465367e-02]\n",
      " [ 9.2676096e-03 -3.1483475e-02 -1.3974602e-02 -2.9285118e-02\n",
      "   1.5609432e-02]\n",
      " [-5.8707321e-04 -4.1361831e-04  7.3974393e-03 -1.6261401e-02\n",
      "  -3.1701945e-02]]\n",
      "\n",
      "=========================================================================\n",
      "                            S i s a   B a g i\n",
      "=========================================================================\n",
      "[[1.1337056e+00 2.5749202e+00 1.4856426e+00 6.7885170e+00 3.1926441e+00]\n",
      " [1.2244853e+01 7.2278869e-01 1.8126556e+01 5.2866101e-01 1.1474953e+00]\n",
      " [1.7489210e-01 7.5618275e-02 6.9876033e-01 4.2584511e+01 4.5239128e+01]\n",
      " [4.9118331e-01 5.7142475e+01 6.0147549e+01 6.5037895e+01 1.1082697e+00]\n",
      " [7.2957146e+01 7.8967323e+01 6.1398745e-01 8.7552734e+01 9.3924911e+01]]\n",
      "\n",
      "=========================================================================\n",
      "                      P e m b a g i a n   B u l a t \n",
      "=========================================================================\n",
      "[[ 0. -1.  0. -1.  0.]\n",
      " [-1.  0. -1.  0.  0.]\n",
      " [ 0.  0.  0. -1. -1.]\n",
      " [ 0. -1. -1. -1.  0.]\n",
      " [-1. -1.  0. -1. -1.]]\n",
      "\n",
      "=========================================================================\n",
      "                          P e m a n g k a t a n\n",
      "=========================================================================\n",
      "[[ 1.2852885e+00 -7.6808952e-02  7.2372179e+00 -1.8920227e-05\n",
      "   3.5128178e+05]\n",
      " [-2.5966285e-02  4.0104482e-03 -7.6465860e-02  4.2961310e-07\n",
      "   5.4047577e+01]\n",
      " [ 3.3564162e-24  0.0000000e+00  4.1443641e-07 -3.9628202e-17\n",
      "  -3.5416762e+11]\n",
      " [ 4.3242511e-17 -7.3645616e+15 -5.8996528e-05 -4.0959918e+19\n",
      "   1.4785208e+03]\n",
      " [-0.0000000e+00 -0.0000000e+00  2.6135919e-18 -1.9443235e+14\n",
      "            -inf]]\n",
      "\n",
      "=========================================================================\n",
      "                            L o g a r i t m a\n",
      "=========================================================================\n",
      "[[ 0.12549157         nan  0.39584735         nan  1.1608495 ]\n",
      " [        nan -0.32463837         nan -0.63740784  0.13758153]\n",
      " [-1.7435861  -2.5820572  -0.35844746         nan         nan]\n",
      " [-0.71093786         nan         nan         nan  0.10279996]\n",
      " [        nan         nan -0.4877808          nan         nan]]\n",
      "\n"
     ]
    }
   ],
   "source": [
    "###### Penjumlahan Tensor\n",
    "jumlah = random_tensor + prime_tensor\n",
    "\n",
    "# Pengurangan Tensor\n",
    "kurang = random_tensor - prime_tensor\n",
    "\n",
    "# Perkalian Tensor\n",
    "kali = random_tensor * prime_tensor\n",
    "\n",
    "# Pembagian Tensor\n",
    "bagi = random_tensor / prime_tensor\n",
    "\n",
    "# Sisa Bagi Tensor\n",
    "sisa_bagi = random_tensor % prime_tensor\n",
    "\n",
    "#Pembagian Bulat Tensor\n",
    "bagi_bulat = random_tensor // prime_tensor\n",
    "\n",
    "#Pemangkatan Tensor\n",
    "pangkat = random_tensor ** prime_tensor\n",
    "\n",
    "#Logaritma Tensor\n",
    "log = tf.math.log(random_tensor, prime_tensor)\n",
    "\n",
    "\n",
    "print(f\"\"\"\n",
    "=========================================================================\n",
    "             H A S I L   O P E R A S I   A R I T M A T I K A\n",
    "=========================================================================\n",
    "                          P e n j u m l a h a n\n",
    "=========================================================================\n",
    "{jumlah}\n",
    "\n",
    "=========================================================================\n",
    "                          P e n g u r a n g a n\n",
    "=========================================================================\n",
    "{kurang}\n",
    "\n",
    "=========================================================================\n",
    "                            P e r k a l i a n\n",
    "=========================================================================\n",
    "{kali}\n",
    "\n",
    "=========================================================================\n",
    "                            P e m b a g i a n\n",
    "=========================================================================\n",
    "{bagi}\n",
    "\n",
    "=========================================================================\n",
    "                            S i s a   B a g i\n",
    "=========================================================================\n",
    "{sisa_bagi}\n",
    "\n",
    "=========================================================================\n",
    "                      P e m b a g i a n   B u l a t \n",
    "=========================================================================\n",
    "{bagi_bulat}\n",
    "\n",
    "=========================================================================\n",
    "                          P e m a n g k a t a n\n",
    "=========================================================================\n",
    "{pangkat}\n",
    "\n",
    "=========================================================================\n",
    "                            L o g a r i t m a\n",
    "=========================================================================\n",
    "{log}\n",
    "\"\"\")"
   ]
  },
  {
   "cell_type": "markdown",
   "id": "898fa057",
   "metadata": {},
   "source": [
    "## Instruksi 5: Tampilkan nilai maksimum dan minimum dari variable random_tensor.\n",
    "\n",
    "tf.argmax() = digunakan untuk mengkalkulasi nilai maksimum <br>\n",
    "tf.argmin() = digunakan untuk mengkalkulasi nilai minimum"
   ]
  },
  {
   "cell_type": "code",
   "execution_count": 71,
   "id": "9d07a960",
   "metadata": {},
   "outputs": [
    {
     "name": "stdout",
     "output_type": "stream",
     "text": [
      "\n",
      "===========================================\n",
      " L O K A S I   N I L A I   M A K S I M U M\n",
      "         R A N D O M   T E N S O R \n",
      "===========================================\n",
      "    Berdasarkan Kolom = [0 1 0 1 0]\n",
      "    Berdasarkan Baris = [4 4 2 4 2]\n",
      "\n",
      "\n",
      "===========================================\n",
      "  L O K A S I   N I L A I   M I N I M U M\n",
      "         R A N D O M   T E N S O R \n",
      "===========================================\n",
      "    Berdasarkan Kolom = [1 3 1 3 4]\n",
      "    Berdasarkan Baris = [1 2 4 3 4]\n",
      "\n"
     ]
    }
   ],
   "source": [
    "#Lokasi Nilai Maksimum Random Tensor berdasarkan kolom\n",
    "max0_random_tensor = tf.argmax(random_tensor, axis = 0)\n",
    "\n",
    "#Lokasi Nilai Maksimum Random Tensor berdasarkan baris\n",
    "max1_random_tensor = tf.argmax(random_tensor, axis = 1)\n",
    "\n",
    "#Lokasi Nilai Minimum Random Tensor berdasarkan kolom\n",
    "min0_random_tensor = tf.argmin(random_tensor, axis = 0)\n",
    "\n",
    "#Lokasi Nilai Minimum Random Tensor berdasarkan baris\n",
    "min1_random_tensor = tf.argmin(random_tensor, axis = 1)\n",
    "\n",
    "print(f\"\"\"\n",
    "===========================================\n",
    " L O K A S I   N I L A I   M A K S I M U M\n",
    "         R A N D O M   T E N S O R \n",
    "===========================================\n",
    "    Berdasarkan Kolom = {max0_random_tensor}\n",
    "    Berdasarkan Baris = {max1_random_tensor}\n",
    "\"\"\")\n",
    "\n",
    "print(f\"\"\"\n",
    "===========================================\n",
    "  L O K A S I   N I L A I   M I N I M U M\n",
    "         R A N D O M   T E N S O R \n",
    "===========================================\n",
    "    Berdasarkan Kolom = {min0_random_tensor}\n",
    "    Berdasarkan Baris = {min1_random_tensor}\n",
    "\"\"\")"
   ]
  },
  {
   "cell_type": "markdown",
   "id": "0f831c4f",
   "metadata": {},
   "source": [
    "## Instruksi 6: Tampilkan hasil dari penggabungan variable random_tensor dengan prime_tensor (concatenation).\n",
    "\n",
    "tf.concat() = digunakan untuk menggabungkan variabel"
   ]
  },
  {
   "cell_type": "code",
   "execution_count": 72,
   "id": "69eba47f",
   "metadata": {},
   "outputs": [
    {
     "name": "stdout",
     "output_type": "stream",
     "text": [
      "\n",
      "=============================================================\n",
      "                   C O N C A T E N A T I O N \n",
      "=============================================================\n",
      "[[ 1.1337056e+00 -4.2507994e-01  1.4856426e+00 -2.1148287e-01\n",
      "   3.1926441e+00]\n",
      " [-7.5514704e-01  7.2278869e-01 -8.7344414e-01  5.2866101e-01\n",
      "   1.1474953e+00]\n",
      " [ 1.7489210e-01  7.5618275e-02  6.9876033e-01 -4.1548777e-01\n",
      "  -1.7608722e+00]\n",
      " [ 4.9118331e-01 -1.8575251e+00 -8.5245073e-01 -1.9621029e+00\n",
      "   1.1082697e+00]\n",
      " [-4.2856343e-02 -3.2675847e-02  6.1398745e-01 -1.4472647e+00\n",
      "  -3.0750885e+00]\n",
      " [ 2.0000000e+00  3.0000000e+00  5.0000000e+00  7.0000000e+00\n",
      "   1.1000000e+01]\n",
      " [ 1.3000000e+01  1.7000000e+01  1.9000000e+01  2.3000000e+01\n",
      "   2.9000000e+01]\n",
      " [ 3.1000000e+01  3.7000000e+01  4.1000000e+01  4.3000000e+01\n",
      "   4.7000000e+01]\n",
      " [ 5.3000000e+01  5.9000000e+01  6.1000000e+01  6.7000000e+01\n",
      "   7.1000000e+01]\n",
      " [ 7.3000000e+01  7.9000000e+01  8.3000000e+01  8.9000000e+01\n",
      "   9.7000000e+01]]\n",
      "\n"
     ]
    }
   ],
   "source": [
    "concat = tf.concat([random_tensor, prime_tensor], axis = 0)\n",
    "\n",
    "print(f\"\"\"\n",
    "=============================================================\n",
    "                   C O N C A T E N A T I O N \n",
    "=============================================================\n",
    "{concat}\n",
    "\"\"\")"
   ]
  },
  {
   "cell_type": "markdown",
   "id": "c38b268e",
   "metadata": {},
   "source": [
    "## Instruksi 7: Tampilkan hasil sorting dari kedua variable di atas (descending).\n",
    "\n",
    "tf.sort() = digunakan untuk mengurutkan tensor"
   ]
  },
  {
   "cell_type": "code",
   "execution_count": 74,
   "id": "dbcf8d1d",
   "metadata": {},
   "outputs": [
    {
     "name": "stdout",
     "output_type": "stream",
     "text": [
      "\n",
      "===============================================================\n",
      "           S O R T I N G   R A N D O M   T E N S O R \n",
      "===============================================================\n",
      "[[ 3.1926441   1.4856426   1.1337056  -0.21148287 -0.42507994]\n",
      " [ 1.1474953   0.7227887   0.528661   -0.75514704 -0.87344414]\n",
      " [ 0.69876033  0.1748921   0.07561827 -0.41548777 -1.7608722 ]\n",
      " [ 1.1082697   0.4911833  -0.8524507  -1.8575251  -1.9621029 ]\n",
      " [ 0.61398745 -0.03267585 -0.04285634 -1.4472647  -3.0750885 ]]\n",
      "\n",
      "\n",
      "===============================================================\n",
      "            S O R T I N G   P R I M E   T E N S O R \n",
      "===============================================================\n",
      "[[11.  7.  5.  3.  2.]\n",
      " [29. 23. 19. 17. 13.]\n",
      " [47. 43. 41. 37. 31.]\n",
      " [71. 67. 61. 59. 53.]\n",
      " [97. 89. 83. 79. 73.]]\n",
      "\n"
     ]
    }
   ],
   "source": [
    "#Sorting Random Tensor\n",
    "sort_random_tensor = tf.sort(random_tensor, direction=\"DESCENDING\")\n",
    "\n",
    "#Sorting Prime Tensor\n",
    "sort_prime_tensor = tf.sort(prime_tensor, direction=\"DESCENDING\")\n",
    "\n",
    "print(f\"\"\"\n",
    "===============================================================\n",
    "           S O R T I N G   R A N D O M   T E N S O R \n",
    "===============================================================\n",
    "{sort_random_tensor}\n",
    "\"\"\")\n",
    "\n",
    "print(f\"\"\"\n",
    "===============================================================\n",
    "            S O R T I N G   P R I M E   T E N S O R \n",
    "===============================================================\n",
    "{sort_prime_tensor}\n",
    "\"\"\")"
   ]
  }
 ],
 "metadata": {
  "kernelspec": {
   "display_name": "Python 3 (ipykernel)",
   "language": "python",
   "name": "python3"
  },
  "language_info": {
   "codemirror_mode": {
    "name": "ipython",
    "version": 3
   },
   "file_extension": ".py",
   "mimetype": "text/x-python",
   "name": "python",
   "nbconvert_exporter": "python",
   "pygments_lexer": "ipython3",
   "version": "3.10.7"
  }
 },
 "nbformat": 4,
 "nbformat_minor": 5
}
