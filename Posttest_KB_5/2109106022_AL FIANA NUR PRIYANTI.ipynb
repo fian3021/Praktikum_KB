{
 "cells": [
  {
   "cell_type": "markdown",
   "id": "7c26e23b",
   "metadata": {},
   "source": [
    "### Nama      : Al Fiana Nur Priyanti <br> NIM         : 2109106022\n",
    "\n",
    "\n",
    "# Posttest KB 5: Supervised Learning\n",
    "### Import library "
   ]
  },
  {
   "cell_type": "code",
   "execution_count": 139,
   "id": "b18923cf",
   "metadata": {},
   "outputs": [],
   "source": [
    "import pandas as pd\n",
    "import seaborn as sns\n",
    "import sklearn"
   ]
  },
  {
   "cell_type": "markdown",
   "id": "90cfdbeb",
   "metadata": {},
   "source": [
    "# Membaca dataset"
   ]
  },
  {
   "cell_type": "code",
   "execution_count": 140,
   "id": "6ba0184a",
   "metadata": {},
   "outputs": [
    {
     "data": {
      "text/html": [
       "<div>\n",
       "<style scoped>\n",
       "    .dataframe tbody tr th:only-of-type {\n",
       "        vertical-align: middle;\n",
       "    }\n",
       "\n",
       "    .dataframe tbody tr th {\n",
       "        vertical-align: top;\n",
       "    }\n",
       "\n",
       "    .dataframe thead th {\n",
       "        text-align: right;\n",
       "    }\n",
       "</style>\n",
       "<table border=\"1\" class=\"dataframe\">\n",
       "  <thead>\n",
       "    <tr style=\"text-align: right;\">\n",
       "      <th></th>\n",
       "      <th>Age</th>\n",
       "      <th>Race</th>\n",
       "      <th>Marital Status</th>\n",
       "      <th>T Stage</th>\n",
       "      <th>N Stage</th>\n",
       "      <th>6th Stage</th>\n",
       "      <th>differentiate</th>\n",
       "      <th>Grade</th>\n",
       "      <th>A Stage</th>\n",
       "      <th>Tumor Size</th>\n",
       "      <th>Estrogen Status</th>\n",
       "      <th>Progesterone Status</th>\n",
       "      <th>Regional Node Examined</th>\n",
       "      <th>Reginol Node Positive</th>\n",
       "      <th>Survival Months</th>\n",
       "      <th>Status</th>\n",
       "    </tr>\n",
       "  </thead>\n",
       "  <tbody>\n",
       "    <tr>\n",
       "      <th>0</th>\n",
       "      <td>68</td>\n",
       "      <td>White</td>\n",
       "      <td>Married</td>\n",
       "      <td>T1</td>\n",
       "      <td>N1</td>\n",
       "      <td>IIA</td>\n",
       "      <td>Poorly differentiated</td>\n",
       "      <td>3</td>\n",
       "      <td>Regional</td>\n",
       "      <td>4</td>\n",
       "      <td>Positive</td>\n",
       "      <td>Positive</td>\n",
       "      <td>24</td>\n",
       "      <td>1</td>\n",
       "      <td>60</td>\n",
       "      <td>Alive</td>\n",
       "    </tr>\n",
       "    <tr>\n",
       "      <th>1</th>\n",
       "      <td>50</td>\n",
       "      <td>White</td>\n",
       "      <td>Married</td>\n",
       "      <td>T2</td>\n",
       "      <td>N2</td>\n",
       "      <td>IIIA</td>\n",
       "      <td>Moderately differentiated</td>\n",
       "      <td>2</td>\n",
       "      <td>Regional</td>\n",
       "      <td>35</td>\n",
       "      <td>Positive</td>\n",
       "      <td>Positive</td>\n",
       "      <td>14</td>\n",
       "      <td>5</td>\n",
       "      <td>62</td>\n",
       "      <td>Alive</td>\n",
       "    </tr>\n",
       "    <tr>\n",
       "      <th>2</th>\n",
       "      <td>58</td>\n",
       "      <td>White</td>\n",
       "      <td>Divorced</td>\n",
       "      <td>T3</td>\n",
       "      <td>N3</td>\n",
       "      <td>IIIC</td>\n",
       "      <td>Moderately differentiated</td>\n",
       "      <td>2</td>\n",
       "      <td>Regional</td>\n",
       "      <td>63</td>\n",
       "      <td>Positive</td>\n",
       "      <td>Positive</td>\n",
       "      <td>14</td>\n",
       "      <td>7</td>\n",
       "      <td>75</td>\n",
       "      <td>Alive</td>\n",
       "    </tr>\n",
       "    <tr>\n",
       "      <th>3</th>\n",
       "      <td>58</td>\n",
       "      <td>White</td>\n",
       "      <td>Married</td>\n",
       "      <td>T1</td>\n",
       "      <td>N1</td>\n",
       "      <td>IIA</td>\n",
       "      <td>Poorly differentiated</td>\n",
       "      <td>3</td>\n",
       "      <td>Regional</td>\n",
       "      <td>18</td>\n",
       "      <td>Positive</td>\n",
       "      <td>Positive</td>\n",
       "      <td>2</td>\n",
       "      <td>1</td>\n",
       "      <td>84</td>\n",
       "      <td>Alive</td>\n",
       "    </tr>\n",
       "    <tr>\n",
       "      <th>4</th>\n",
       "      <td>47</td>\n",
       "      <td>White</td>\n",
       "      <td>Married</td>\n",
       "      <td>T2</td>\n",
       "      <td>N1</td>\n",
       "      <td>IIB</td>\n",
       "      <td>Poorly differentiated</td>\n",
       "      <td>3</td>\n",
       "      <td>Regional</td>\n",
       "      <td>41</td>\n",
       "      <td>Positive</td>\n",
       "      <td>Positive</td>\n",
       "      <td>3</td>\n",
       "      <td>1</td>\n",
       "      <td>50</td>\n",
       "      <td>Alive</td>\n",
       "    </tr>\n",
       "  </tbody>\n",
       "</table>\n",
       "</div>"
      ],
      "text/plain": [
       "   Age   Race Marital Status T Stage  N Stage 6th Stage  \\\n",
       "0   68  White        Married       T1      N1       IIA   \n",
       "1   50  White        Married       T2      N2      IIIA   \n",
       "2   58  White       Divorced       T3      N3      IIIC   \n",
       "3   58  White        Married       T1      N1       IIA   \n",
       "4   47  White        Married       T2      N1       IIB   \n",
       "\n",
       "               differentiate Grade   A Stage  Tumor Size Estrogen Status  \\\n",
       "0      Poorly differentiated     3  Regional           4        Positive   \n",
       "1  Moderately differentiated     2  Regional          35        Positive   \n",
       "2  Moderately differentiated     2  Regional          63        Positive   \n",
       "3      Poorly differentiated     3  Regional          18        Positive   \n",
       "4      Poorly differentiated     3  Regional          41        Positive   \n",
       "\n",
       "  Progesterone Status  Regional Node Examined  Reginol Node Positive  \\\n",
       "0            Positive                      24                      1   \n",
       "1            Positive                      14                      5   \n",
       "2            Positive                      14                      7   \n",
       "3            Positive                       2                      1   \n",
       "4            Positive                       3                      1   \n",
       "\n",
       "   Survival Months Status  \n",
       "0               60  Alive  \n",
       "1               62  Alive  \n",
       "2               75  Alive  \n",
       "3               84  Alive  \n",
       "4               50  Alive  "
      ]
     },
     "execution_count": 140,
     "metadata": {},
     "output_type": "execute_result"
    }
   ],
   "source": [
    "dataset = pd.read_csv(\"Breast_Cancer.csv\")\n",
    "dataset.head()"
   ]
  },
  {
   "cell_type": "markdown",
   "id": "4c17ba62",
   "metadata": {},
   "source": [
    "#### Melihat apakah ada data null atau duplikat"
   ]
  },
  {
   "cell_type": "code",
   "execution_count": 141,
   "id": "3dfa4d27",
   "metadata": {},
   "outputs": [
    {
     "data": {
      "text/plain": [
       "Age                       0\n",
       "Race                      0\n",
       "Marital Status            0\n",
       "T Stage                   0\n",
       "N Stage                   0\n",
       "6th Stage                 0\n",
       "differentiate             0\n",
       "Grade                     0\n",
       "A Stage                   0\n",
       "Tumor Size                0\n",
       "Estrogen Status           0\n",
       "Progesterone Status       0\n",
       "Regional Node Examined    0\n",
       "Reginol Node Positive     0\n",
       "Survival Months           0\n",
       "Status                    0\n",
       "dtype: int64"
      ]
     },
     "execution_count": 141,
     "metadata": {},
     "output_type": "execute_result"
    }
   ],
   "source": [
    "# Cek nilai null\n",
    "dataset.isna().sum()"
   ]
  },
  {
   "cell_type": "code",
   "execution_count": 142,
   "id": "63970d28",
   "metadata": {},
   "outputs": [
    {
     "data": {
      "text/html": [
       "<div>\n",
       "<style scoped>\n",
       "    .dataframe tbody tr th:only-of-type {\n",
       "        vertical-align: middle;\n",
       "    }\n",
       "\n",
       "    .dataframe tbody tr th {\n",
       "        vertical-align: top;\n",
       "    }\n",
       "\n",
       "    .dataframe thead th {\n",
       "        text-align: right;\n",
       "    }\n",
       "</style>\n",
       "<table border=\"1\" class=\"dataframe\">\n",
       "  <thead>\n",
       "    <tr style=\"text-align: right;\">\n",
       "      <th></th>\n",
       "      <th>Age</th>\n",
       "      <th>Race</th>\n",
       "      <th>Marital Status</th>\n",
       "      <th>T Stage</th>\n",
       "      <th>N Stage</th>\n",
       "      <th>6th Stage</th>\n",
       "      <th>differentiate</th>\n",
       "      <th>Grade</th>\n",
       "      <th>A Stage</th>\n",
       "      <th>Tumor Size</th>\n",
       "      <th>Estrogen Status</th>\n",
       "      <th>Progesterone Status</th>\n",
       "      <th>Regional Node Examined</th>\n",
       "      <th>Reginol Node Positive</th>\n",
       "      <th>Survival Months</th>\n",
       "      <th>Status</th>\n",
       "    </tr>\n",
       "  </thead>\n",
       "  <tbody>\n",
       "    <tr>\n",
       "      <th>436</th>\n",
       "      <td>63</td>\n",
       "      <td>White</td>\n",
       "      <td>Married</td>\n",
       "      <td>T1</td>\n",
       "      <td>N1</td>\n",
       "      <td>IIA</td>\n",
       "      <td>Moderately differentiated</td>\n",
       "      <td>2</td>\n",
       "      <td>Regional</td>\n",
       "      <td>17</td>\n",
       "      <td>Positive</td>\n",
       "      <td>Positive</td>\n",
       "      <td>9</td>\n",
       "      <td>1</td>\n",
       "      <td>56</td>\n",
       "      <td>Alive</td>\n",
       "    </tr>\n",
       "  </tbody>\n",
       "</table>\n",
       "</div>"
      ],
      "text/plain": [
       "     Age   Race Marital Status T Stage  N Stage 6th Stage  \\\n",
       "436   63  White        Married       T1      N1       IIA   \n",
       "\n",
       "                 differentiate Grade   A Stage  Tumor Size Estrogen Status  \\\n",
       "436  Moderately differentiated     2  Regional          17        Positive   \n",
       "\n",
       "    Progesterone Status  Regional Node Examined  Reginol Node Positive  \\\n",
       "436            Positive                       9                      1   \n",
       "\n",
       "     Survival Months Status  \n",
       "436               56  Alive  "
      ]
     },
     "execution_count": 142,
     "metadata": {},
     "output_type": "execute_result"
    }
   ],
   "source": [
    "# Cek nilai duplikat\n",
    "dataset[dataset.duplicated()]"
   ]
  },
  {
   "cell_type": "code",
   "execution_count": 143,
   "id": "4abfb64c",
   "metadata": {},
   "outputs": [
    {
     "data": {
      "text/plain": [
       "0"
      ]
     },
     "execution_count": 143,
     "metadata": {},
     "output_type": "execute_result"
    }
   ],
   "source": [
    "# Mengatasi nilai duplikat\n",
    "dataset.drop_duplicates(inplace=True)\n",
    "dataset.duplicated().sum()"
   ]
  },
  {
   "cell_type": "markdown",
   "id": "02e87c0a",
   "metadata": {},
   "source": [
    "# Data Spliting"
   ]
  },
  {
   "cell_type": "code",
   "execution_count": 144,
   "id": "86b57e48",
   "metadata": {},
   "outputs": [],
   "source": [
    "from sklearn.model_selection import train_test_split\n",
    "\n",
    "X = dataset[['Age', 'Tumor Size', 'Regional Node Examined', 'Reginol Node Positive']]\n",
    "Y = dataset['Status']\n",
    "\n",
    "X_train, X_test, Y_train, Y_test = train_test_split(X, Y, random_state=0)"
   ]
  },
  {
   "cell_type": "markdown",
   "id": "0c3a44cc",
   "metadata": {},
   "source": [
    "## Gunakan salah satu tipe pendekatan pada Supervised Learning : CLASSIFICATION\n",
    "\n",
    "\n",
    "## 1. Algoritma K-Nearest Neighbor"
   ]
  },
  {
   "cell_type": "code",
   "execution_count": 145,
   "id": "607bb45c",
   "metadata": {},
   "outputs": [],
   "source": [
    "from sklearn.neighbors import KNeighborsClassifier\n",
    "\n",
    "KNN = KNeighborsClassifier(n_neighbors = 5).fit(X_train, Y_train)\n",
    "\n",
    "# Nilai score untuk Training K-Nearest Neighbor\n",
    "Train_KNN = KNN.score(X_train, Y_train)\n",
    "\n",
    "# Nilai score untuk Testing K-Nearest Neighbor\n",
    "Test_KNN = KNN.score(X_test, Y_test)\n",
    "\n",
    "# Prediction K-Nearest Neighbor\n",
    "Pred_KNN = KNN.predict(X_test)\n",
    "\n",
    "# Classification Report K-Nearest Neighbor\n",
    "CR_KNN = sklearn.metrics.classification_report(Y_test, Pred_KNN)"
   ]
  },
  {
   "cell_type": "code",
   "execution_count": 146,
   "id": "b9456383",
   "metadata": {},
   "outputs": [
    {
     "name": "stdout",
     "output_type": "stream",
     "text": [
      "\n",
      "Training : 0.8614517732847199\n",
      "Testing  : 0.8290258449304175\n",
      "\n",
      "Prediksi Akurasi : 82.90258449304176 %\n",
      "\n",
      "Classification Report : \n",
      "\n",
      "              precision    recall  f1-score   support\n",
      "\n",
      "       Alive       0.86      0.96      0.90       854\n",
      "        Dead       0.32      0.12      0.17       152\n",
      "\n",
      "    accuracy                           0.83      1006\n",
      "   macro avg       0.59      0.54      0.54      1006\n",
      "weighted avg       0.78      0.83      0.79      1006\n",
      "\n"
     ]
    }
   ],
   "source": [
    "print(f\"\"\"\n",
    "Training : {Train_KNN}\n",
    "Testing  : {Test_KNN}\n",
    "\"\"\")\n",
    "print(\"Prediksi Akurasi :\", sklearn.metrics.accuracy_score(Y_test, Pred_KNN)*100, '%')\n",
    "print(f\"\\nClassification Report : \\n\\n{CR_KNN}\")"
   ]
  },
  {
   "cell_type": "markdown",
   "id": "be5877fe",
   "metadata": {},
   "source": [
    "## 2. Algoritma Decision Tree"
   ]
  },
  {
   "cell_type": "code",
   "execution_count": 147,
   "id": "6ec2fa8e",
   "metadata": {},
   "outputs": [],
   "source": [
    "from sklearn.tree import DecisionTreeClassifier\n",
    "\n",
    "DTree = DecisionTreeClassifier().fit(X_train, Y_train)\n",
    "\n",
    "# Nilai score untuk Training Decision Tree\n",
    "Train_DTree = DTree.score(X_train, Y_train)\n",
    "\n",
    "# Nilai score untuk Testing Decision Tree\n",
    "Test_DTree = DTree.score(X_test, Y_test)\n",
    "\n",
    "# Prediction Decision Tree\n",
    "Pred_DTree = DTree.predict(X_test)\n",
    "\n",
    "# Classification Report Decision Tree\n",
    "CR_DTree = sklearn.metrics.classification_report(Y_test, Pred_DTree)"
   ]
  },
  {
   "cell_type": "code",
   "execution_count": 148,
   "id": "bcc9ef29",
   "metadata": {},
   "outputs": [
    {
     "name": "stdout",
     "output_type": "stream",
     "text": [
      "\n",
      "Training : 0.9963539940338084\n",
      "Testing  : 0.7445328031809145\n",
      "\n",
      "Prediksi Akurasi : 74.45328031809146 %\n",
      "\n",
      "Classification Report : \n",
      "\n",
      "              precision    recall  f1-score   support\n",
      "\n",
      "       Alive       0.86      0.83      0.85       854\n",
      "        Dead       0.22      0.27      0.24       152\n",
      "\n",
      "    accuracy                           0.74      1006\n",
      "   macro avg       0.54      0.55      0.54      1006\n",
      "weighted avg       0.77      0.74      0.76      1006\n",
      "\n"
     ]
    }
   ],
   "source": [
    "print(f\"\"\"\n",
    "Training : {Train_DTree}\n",
    "Testing  : {Test_DTree}\n",
    "\"\"\")\n",
    "print(\"Prediksi Akurasi :\",sklearn.metrics.accuracy_score(Y_test, Pred_DTree)*100,'%')\n",
    "print(f\"\\nClassification Report : \\n\\n{CR_DTree}\")"
   ]
  },
  {
   "cell_type": "markdown",
   "id": "54550c7a",
   "metadata": {},
   "source": [
    "## 3. Algoritma Naive Bayes"
   ]
  },
  {
   "cell_type": "code",
   "execution_count": 149,
   "id": "5c16240a",
   "metadata": {},
   "outputs": [],
   "source": [
    "from sklearn.naive_bayes import GaussianNB\n",
    "\n",
    "GNB = GaussianNB().fit(X_train, Y_train)\n",
    "\n",
    "# Nilai score untuk Training Naive Bayes\n",
    "Train_GNB = GNB.score(X_train, Y_train)\n",
    "\n",
    "# Nilai score untuk Testing Naive Bayes\n",
    "Test_GNB = GNB.score(X_test, Y_test)\n",
    "\n",
    "# Prediction Naive Bayes\n",
    "Pred_GNB = GNB.predict(X_test)\n",
    "\n",
    "# Classification Report Naive Bayes\n",
    "CR_GNB = sklearn.metrics.classification_report(Y_test, Pred_GNB)"
   ]
  },
  {
   "cell_type": "code",
   "execution_count": 150,
   "id": "c7d00d55",
   "metadata": {},
   "outputs": [
    {
     "name": "stdout",
     "output_type": "stream",
     "text": [
      "\n",
      "Training : 0.8249917136228041\n",
      "Testing  : 0.8220675944333996\n",
      "\n",
      "Prediksi Akurasi : 82.20675944333996 %\n",
      "\n",
      "Classification Report : \n",
      "\n",
      "              precision    recall  f1-score   support\n",
      "\n",
      "       Alive       0.87      0.93      0.90       854\n",
      "        Dead       0.34      0.20      0.25       152\n",
      "\n",
      "    accuracy                           0.82      1006\n",
      "   macro avg       0.61      0.57      0.58      1006\n",
      "weighted avg       0.79      0.82      0.80      1006\n",
      "\n"
     ]
    }
   ],
   "source": [
    "print(f\"\"\"\n",
    "Training : {Train_GNB}\n",
    "Testing  : {Test_GNB}\n",
    "\"\"\")\n",
    "print(\"Prediksi Akurasi :\",sklearn.metrics.accuracy_score(Y_test, Pred_GNB)*100,'%')\n",
    "print(f\"\\nClassification Report : \\n\\n{CR_GNB}\")"
   ]
  },
  {
   "cell_type": "markdown",
   "id": "8017828c",
   "metadata": {},
   "source": [
    "# Perbandingan Score antar Algoritma"
   ]
  },
  {
   "cell_type": "code",
   "execution_count": 151,
   "id": "e5467907",
   "metadata": {},
   "outputs": [
    {
     "name": "stdout",
     "output_type": "stream",
     "text": [
      "\n",
      "====================================================\n",
      "                 PERBANDINGAN SCORE \n",
      "====================================================\n",
      "----------------------------------------------------\n",
      "                 K-Nearest Neighbor\n",
      "----------------------------------------------------\n",
      "      Training : 0.8614517732847199\n",
      "      Testing  : 0.8290258449304175\n",
      "      Prediksi Akurasi : 82.90258449304176 %\n",
      "\n",
      "----------------------------------------------------\n",
      "                   Decision Tree\n",
      "----------------------------------------------------\n",
      "      Training : 0.9963539940338084\n",
      "      Testing  : 0.7445328031809145\n",
      "      Prediksi Akurasi : 74.45328031809146 %\n",
      "\n",
      "----------------------------------------------------\n",
      "                    Naive Bayes\n",
      "----------------------------------------------------\n",
      "      Training : 0.8249917136228041\n",
      "      Testing  : 0.8220675944333996\n",
      "      Prediksi Akurasi : 82.20675944333996 %\n",
      "\n",
      "====================================================\n",
      "                \n",
      "\n"
     ]
    }
   ],
   "source": [
    "print(f\"\"\"\n",
    "====================================================\n",
    "                 PERBANDINGAN SCORE \n",
    "====================================================\n",
    "----------------------------------------------------\n",
    "                 K-Nearest Neighbor\n",
    "----------------------------------------------------\n",
    "      Training : {Train_KNN}\n",
    "      Testing  : {Test_KNN}\"\"\")\n",
    "print(\"      Prediksi Akurasi :\", sklearn.metrics.accuracy_score(Y_test, Pred_KNN)*100, '%')\n",
    "print(f\"\"\"\n",
    "----------------------------------------------------\n",
    "                   Decision Tree\n",
    "----------------------------------------------------\n",
    "      Training : {Train_DTree}\n",
    "      Testing  : {Test_DTree}\"\"\")\n",
    "print(\"      Prediksi Akurasi :\",sklearn.metrics.accuracy_score(Y_test, Pred_DTree)*100,'%')\n",
    "print(f\"\"\"\n",
    "----------------------------------------------------\n",
    "                    Naive Bayes\n",
    "----------------------------------------------------\n",
    "      Training : {Train_GNB}\n",
    "      Testing  : {Test_GNB}\"\"\")\n",
    "print(\"      Prediksi Akurasi :\",sklearn.metrics.accuracy_score(Y_test, Pred_GNB)*100,'%')\n",
    "print(f\"\"\"\n",
    "====================================================\n",
    "                \n",
    "\"\"\")"
   ]
  },
  {
   "cell_type": "markdown",
   "id": "39060707",
   "metadata": {},
   "source": [
    "## Kesimpulan \n",
    "### Dapat dilihat pada perbandingan score ketiga algoritma di atas, yang memiliki tingkat akurasi terbaik adalah algoritma K-Nearest Neighbor"
   ]
  },
  {
   "cell_type": "code",
   "execution_count": null,
   "id": "27711725",
   "metadata": {},
   "outputs": [],
   "source": []
  }
 ],
 "metadata": {
  "kernelspec": {
   "display_name": "Python 3 (ipykernel)",
   "language": "python",
   "name": "python3"
  },
  "language_info": {
   "codemirror_mode": {
    "name": "ipython",
    "version": 3
   },
   "file_extension": ".py",
   "mimetype": "text/x-python",
   "name": "python",
   "nbconvert_exporter": "python",
   "pygments_lexer": "ipython3",
   "version": "3.10.7"
  }
 },
 "nbformat": 4,
 "nbformat_minor": 5
}
