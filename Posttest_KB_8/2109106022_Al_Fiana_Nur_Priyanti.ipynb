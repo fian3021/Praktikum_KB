{
 "cells": [
  {
   "cell_type": "markdown",
   "id": "58e7e80a",
   "metadata": {},
   "source": [
    "### Nama : Al Fiana Nur Priyanti <br> NIM : 2109106022\n",
    "\n",
    "# Posttest KB 8: Deep Learning\n",
    "## Import Library"
   ]
  },
  {
   "cell_type": "code",
   "execution_count": 33,
   "id": "f9e99992",
   "metadata": {},
   "outputs": [],
   "source": [
    "import pandas as pd\n",
    "import tensorflow as tf\n",
    "from tensorflow.keras import Sequential\n",
    "from tensorflow.keras.layers import Dense\n",
    "from sklearn.preprocessing import OrdinalEncoder\n",
    "from sklearn.model_selection import train_test_split"
   ]
  },
  {
   "cell_type": "markdown",
   "id": "3c55b556",
   "metadata": {},
   "source": [
    "## Membaca dataset "
   ]
  },
  {
   "cell_type": "code",
   "execution_count": 34,
   "id": "41267eb4",
   "metadata": {},
   "outputs": [
    {
     "name": "stdout",
     "output_type": "stream",
     "text": [
      "<class 'pandas.core.frame.DataFrame'>\n",
      "RangeIndex: 4015 entries, 0 to 4014\n",
      "Data columns (total 17 columns):\n",
      " #   Column                  Non-Null Count  Dtype  \n",
      "---  ------                  --------------  -----  \n",
      " 0   Unnamed: 0              4015 non-null   int64  \n",
      " 1   Age                     4015 non-null   int64  \n",
      " 2   Race                    4015 non-null   object \n",
      " 3   Marital Status          4015 non-null   object \n",
      " 4   T Stage                 4015 non-null   object \n",
      " 5   N Stage                 4015 non-null   object \n",
      " 6   6th Stage               4015 non-null   object \n",
      " 7   differentiate           4015 non-null   object \n",
      " 8   Grade                   4015 non-null   object \n",
      " 9   A Stage                 4015 non-null   object \n",
      " 10  Tumor Size              4015 non-null   float64\n",
      " 11  Estrogen Status         4015 non-null   object \n",
      " 12  Progesterone Status     4015 non-null   object \n",
      " 13  Regional Node Examined  4015 non-null   int64  \n",
      " 14  Reginol Node Positive   4015 non-null   int64  \n",
      " 15  Survival Months         4015 non-null   float64\n",
      " 16  Status                  4015 non-null   object \n",
      "dtypes: float64(2), int64(4), object(11)\n",
      "memory usage: 533.4+ KB\n"
     ]
    }
   ],
   "source": [
    "df = pd.read_csv(\"Breast_Cancer_Bersih.csv\")\n",
    "df.info()"
   ]
  },
  {
   "cell_type": "code",
   "execution_count": 35,
   "id": "36b08b1e",
   "metadata": {},
   "outputs": [
    {
     "data": {
      "text/html": [
       "<div>\n",
       "<style scoped>\n",
       "    .dataframe tbody tr th:only-of-type {\n",
       "        vertical-align: middle;\n",
       "    }\n",
       "\n",
       "    .dataframe tbody tr th {\n",
       "        vertical-align: top;\n",
       "    }\n",
       "\n",
       "    .dataframe thead th {\n",
       "        text-align: right;\n",
       "    }\n",
       "</style>\n",
       "<table border=\"1\" class=\"dataframe\">\n",
       "  <thead>\n",
       "    <tr style=\"text-align: right;\">\n",
       "      <th></th>\n",
       "      <th>Unnamed: 0</th>\n",
       "      <th>Age</th>\n",
       "      <th>Race</th>\n",
       "      <th>Marital Status</th>\n",
       "      <th>T Stage</th>\n",
       "      <th>N Stage</th>\n",
       "      <th>6th Stage</th>\n",
       "      <th>differentiate</th>\n",
       "      <th>Grade</th>\n",
       "      <th>A Stage</th>\n",
       "      <th>Tumor Size</th>\n",
       "      <th>Estrogen Status</th>\n",
       "      <th>Progesterone Status</th>\n",
       "      <th>Regional Node Examined</th>\n",
       "      <th>Reginol Node Positive</th>\n",
       "      <th>Survival Months</th>\n",
       "      <th>Status</th>\n",
       "    </tr>\n",
       "  </thead>\n",
       "  <tbody>\n",
       "    <tr>\n",
       "      <th>0</th>\n",
       "      <td>0</td>\n",
       "      <td>68</td>\n",
       "      <td>White</td>\n",
       "      <td>Married</td>\n",
       "      <td>T1</td>\n",
       "      <td>N1</td>\n",
       "      <td>IIA</td>\n",
       "      <td>Poorly differentiated</td>\n",
       "      <td>3</td>\n",
       "      <td>Regional</td>\n",
       "      <td>4.000000</td>\n",
       "      <td>Positive</td>\n",
       "      <td>Positive</td>\n",
       "      <td>24</td>\n",
       "      <td>1</td>\n",
       "      <td>60.0</td>\n",
       "      <td>Alive</td>\n",
       "    </tr>\n",
       "    <tr>\n",
       "      <th>1</th>\n",
       "      <td>1</td>\n",
       "      <td>50</td>\n",
       "      <td>White</td>\n",
       "      <td>Married</td>\n",
       "      <td>T2</td>\n",
       "      <td>N2</td>\n",
       "      <td>IIIA</td>\n",
       "      <td>Moderately differentiated</td>\n",
       "      <td>2</td>\n",
       "      <td>Regional</td>\n",
       "      <td>35.000000</td>\n",
       "      <td>Positive</td>\n",
       "      <td>Positive</td>\n",
       "      <td>14</td>\n",
       "      <td>5</td>\n",
       "      <td>62.0</td>\n",
       "      <td>Alive</td>\n",
       "    </tr>\n",
       "    <tr>\n",
       "      <th>2</th>\n",
       "      <td>2</td>\n",
       "      <td>58</td>\n",
       "      <td>White</td>\n",
       "      <td>Divorced</td>\n",
       "      <td>T3</td>\n",
       "      <td>N3</td>\n",
       "      <td>IIIC</td>\n",
       "      <td>Moderately differentiated</td>\n",
       "      <td>2</td>\n",
       "      <td>Regional</td>\n",
       "      <td>30.584862</td>\n",
       "      <td>Positive</td>\n",
       "      <td>Positive</td>\n",
       "      <td>14</td>\n",
       "      <td>7</td>\n",
       "      <td>75.0</td>\n",
       "      <td>Alive</td>\n",
       "    </tr>\n",
       "    <tr>\n",
       "      <th>3</th>\n",
       "      <td>3</td>\n",
       "      <td>58</td>\n",
       "      <td>White</td>\n",
       "      <td>Married</td>\n",
       "      <td>T1</td>\n",
       "      <td>N1</td>\n",
       "      <td>IIA</td>\n",
       "      <td>Poorly differentiated</td>\n",
       "      <td>3</td>\n",
       "      <td>Regional</td>\n",
       "      <td>30.584862</td>\n",
       "      <td>Positive</td>\n",
       "      <td>Positive</td>\n",
       "      <td>2</td>\n",
       "      <td>1</td>\n",
       "      <td>84.0</td>\n",
       "      <td>Alive</td>\n",
       "    </tr>\n",
       "    <tr>\n",
       "      <th>4</th>\n",
       "      <td>4</td>\n",
       "      <td>47</td>\n",
       "      <td>White</td>\n",
       "      <td>Married</td>\n",
       "      <td>T2</td>\n",
       "      <td>N1</td>\n",
       "      <td>IIB</td>\n",
       "      <td>Poorly differentiated</td>\n",
       "      <td>3</td>\n",
       "      <td>Regional</td>\n",
       "      <td>41.000000</td>\n",
       "      <td>Positive</td>\n",
       "      <td>Positive</td>\n",
       "      <td>3</td>\n",
       "      <td>1</td>\n",
       "      <td>73.0</td>\n",
       "      <td>Alive</td>\n",
       "    </tr>\n",
       "  </tbody>\n",
       "</table>\n",
       "</div>"
      ],
      "text/plain": [
       "   Unnamed: 0  Age   Race Marital Status T Stage  N Stage 6th Stage  \\\n",
       "0           0   68  White        Married       T1      N1       IIA   \n",
       "1           1   50  White        Married       T2      N2      IIIA   \n",
       "2           2   58  White       Divorced       T3      N3      IIIC   \n",
       "3           3   58  White        Married       T1      N1       IIA   \n",
       "4           4   47  White        Married       T2      N1       IIB   \n",
       "\n",
       "               differentiate Grade   A Stage  Tumor Size Estrogen Status  \\\n",
       "0      Poorly differentiated     3  Regional    4.000000        Positive   \n",
       "1  Moderately differentiated     2  Regional   35.000000        Positive   \n",
       "2  Moderately differentiated     2  Regional   30.584862        Positive   \n",
       "3      Poorly differentiated     3  Regional   30.584862        Positive   \n",
       "4      Poorly differentiated     3  Regional   41.000000        Positive   \n",
       "\n",
       "  Progesterone Status  Regional Node Examined  Reginol Node Positive  \\\n",
       "0            Positive                      24                      1   \n",
       "1            Positive                      14                      5   \n",
       "2            Positive                      14                      7   \n",
       "3            Positive                       2                      1   \n",
       "4            Positive                       3                      1   \n",
       "\n",
       "   Survival Months Status  \n",
       "0             60.0  Alive  \n",
       "1             62.0  Alive  \n",
       "2             75.0  Alive  \n",
       "3             84.0  Alive  \n",
       "4             73.0  Alive  "
      ]
     },
     "execution_count": 35,
     "metadata": {},
     "output_type": "execute_result"
    }
   ],
   "source": [
    "df.head()"
   ]
  },
  {
   "cell_type": "markdown",
   "id": "dd5e1f21",
   "metadata": {},
   "source": [
    "## Melihat apakah ada nilai null atau nilai duplikat"
   ]
  },
  {
   "cell_type": "code",
   "execution_count": 36,
   "id": "2f0b63ff",
   "metadata": {},
   "outputs": [
    {
     "data": {
      "text/plain": [
       "Unnamed: 0                0\n",
       "Age                       0\n",
       "Race                      0\n",
       "Marital Status            0\n",
       "T Stage                   0\n",
       "N Stage                   0\n",
       "6th Stage                 0\n",
       "differentiate             0\n",
       "Grade                     0\n",
       "A Stage                   0\n",
       "Tumor Size                0\n",
       "Estrogen Status           0\n",
       "Progesterone Status       0\n",
       "Regional Node Examined    0\n",
       "Reginol Node Positive     0\n",
       "Survival Months           0\n",
       "Status                    0\n",
       "dtype: int64"
      ]
     },
     "execution_count": 36,
     "metadata": {},
     "output_type": "execute_result"
    }
   ],
   "source": [
    "# Cek Nilai NULL\n",
    "df.isna().sum()"
   ]
  },
  {
   "cell_type": "code",
   "execution_count": 37,
   "id": "08495c36",
   "metadata": {},
   "outputs": [
    {
     "data": {
      "text/plain": [
       "0"
      ]
     },
     "execution_count": 37,
     "metadata": {},
     "output_type": "execute_result"
    }
   ],
   "source": [
    "# Cek Nilai Duplikat\n",
    "df.duplicated().sum()"
   ]
  },
  {
   "cell_type": "markdown",
   "id": "ef96dd2a",
   "metadata": {},
   "source": [
    "## Encoding Data Objek dengan Ordinal Encoder  "
   ]
  },
  {
   "cell_type": "code",
   "execution_count": 38,
   "id": "236bf441",
   "metadata": {},
   "outputs": [],
   "source": [
    "encoder = OrdinalEncoder()\n",
    "df[\"Race\"] = encoder.fit_transform(df[[\"Race\"]])\n",
    "df[\"Marital_Status\"] = encoder.fit_transform(df[[\"Marital Status\"]])\n",
    "df[\"N_Stage\"] = encoder.fit_transform(df[[\"N Stage\"]])\n",
    "df[\"6th_Stage\"] = encoder.fit_transform(df[[\"6th Stage\"]])\n",
    "df[\"differentiate\"] = encoder.fit_transform(df[[\"differentiate\"]])\n",
    "df[\"Grade\"] = encoder.fit_transform(df[[\"Grade\"]])\n",
    "df[\"A_Stage\"] = encoder.fit_transform(df[[\"A Stage\"]])\n",
    "df[\"Estrogen_Status\"] = encoder.fit_transform(df[[\"Estrogen Status\"]])\n",
    "df[\"Progesterone_Status\"] = encoder.fit_transform(df[[\"Progesterone Status\"]])\n",
    "df[\"Status\"] = encoder.fit_transform(df[[\"Status\"]])"
   ]
  },
  {
   "cell_type": "markdown",
   "id": "a0925932",
   "metadata": {},
   "source": [
    "## Data Splitting"
   ]
  },
  {
   "cell_type": "code",
   "execution_count": 39,
   "id": "f7b9c8fb",
   "metadata": {},
   "outputs": [
    {
     "name": "stdout",
     "output_type": "stream",
     "text": [
      "Dimensi X_Train:  (2810, 14)\n",
      "Dimensi X_Test:  (1205, 14)\n",
      "Dimensi Y_Train:  (2810,)\n",
      "Dimensi Y_Test:  (1205,)\n"
     ]
    }
   ],
   "source": [
    "X = df[['Age', 'Race', 'Marital_Status', \n",
    "        'N_Stage', '6th_Stage', 'differentiate', 'Grade', \n",
    "        'A_Stage', 'Tumor Size', 'Estrogen_Status', 'Progesterone_Status', \n",
    "        'Regional Node Examined', 'Reginol Node Positive',  'Survival Months']]\n",
    "Y = df['Status']\n",
    "\n",
    "X_train, X_test, Y_train, Y_test = train_test_split(X, Y, test_size=0.3)\n",
    "\n",
    "# Menampilkan Dimensi\n",
    "print(\"Dimensi X_Train: \", X_train.shape)\n",
    "print(\"Dimensi X_Test: \", X_test.shape)\n",
    "print(\"Dimensi Y_Train: \", Y_train.shape)\n",
    "print(\"Dimensi Y_Test: \", Y_test.shape)"
   ]
  },
  {
   "cell_type": "markdown",
   "id": "0a58c00b",
   "metadata": {},
   "source": [
    "## Encoding Label "
   ]
  },
  {
   "cell_type": "code",
   "execution_count": 40,
   "id": "5592e21b",
   "metadata": {},
   "outputs": [],
   "source": [
    "num_class = 2\n",
    "\n",
    "y_train = tf.keras.utils.to_categorical(Y_train, num_class)\n",
    "y_test = tf.keras.utils.to_categorical(Y_test, num_class)"
   ]
  },
  {
   "cell_type": "markdown",
   "id": "b27257e9",
   "metadata": {},
   "source": [
    "## Membuat DNN \n",
    "Terdiri dari 2 layers dengan aktivasi RELU"
   ]
  },
  {
   "cell_type": "code",
   "execution_count": 41,
   "id": "22b3126b",
   "metadata": {
    "scrolled": true
   },
   "outputs": [
    {
     "name": "stdout",
     "output_type": "stream",
     "text": [
      "Model: \"sequential_9\"\n",
      "_________________________________________________________________\n",
      " Layer (type)                Output Shape              Param #   \n",
      "=================================================================\n",
      " dense_27 (Dense)            (None, 64)                960       \n",
      "                                                                 \n",
      " dense_28 (Dense)            (None, 32)                2080      \n",
      "                                                                 \n",
      " dense_29 (Dense)            (None, 2)                 66        \n",
      "                                                                 \n",
      "=================================================================\n",
      "Total params: 3,106\n",
      "Trainable params: 3,106\n",
      "Non-trainable params: 0\n",
      "_________________________________________________________________\n"
     ]
    }
   ],
   "source": [
    "model = tf.keras.Sequential(\n",
    "    [\n",
    "        tf.keras.layers.Dense(64, activation='relu', input_dim = 14),\n",
    "        tf.keras.layers.Dense(32, activation='relu'),\n",
    "        tf.keras.layers.Dense(2, activation='softmax')\n",
    "    ]\n",
    ")\n",
    "model.summary()"
   ]
  },
  {
   "cell_type": "markdown",
   "id": "b82b549d",
   "metadata": {},
   "source": [
    "# Optimisasi model"
   ]
  },
  {
   "cell_type": "code",
   "execution_count": 42,
   "id": "a057d183",
   "metadata": {},
   "outputs": [],
   "source": [
    "model.compile(optimizer='sgd', \n",
    "              loss='binary_crossentropy', \n",
    "              metrics=['accuracy'])"
   ]
  },
  {
   "cell_type": "markdown",
   "id": "2eb95a88",
   "metadata": {},
   "source": [
    "## Fitting Training Model"
   ]
  },
  {
   "cell_type": "code",
   "execution_count": 43,
   "id": "e83709ef",
   "metadata": {},
   "outputs": [
    {
     "name": "stdout",
     "output_type": "stream",
     "text": [
      "Epoch 1/10\n",
      "88/88 [==============================] - 1s 4ms/step - loss: 0.4685 - accuracy: 0.8641 - val_loss: 0.3079 - val_accuracy: 0.8871\n",
      "Epoch 2/10\n",
      "88/88 [==============================] - 0s 2ms/step - loss: 0.3252 - accuracy: 0.8861 - val_loss: 0.2876 - val_accuracy: 0.8971\n",
      "Epoch 3/10\n",
      "88/88 [==============================] - 0s 2ms/step - loss: 0.3125 - accuracy: 0.8893 - val_loss: 0.2970 - val_accuracy: 0.8954\n",
      "Epoch 4/10\n",
      "88/88 [==============================] - 0s 2ms/step - loss: 0.3114 - accuracy: 0.8854 - val_loss: 0.2874 - val_accuracy: 0.9004\n",
      "Epoch 5/10\n",
      "88/88 [==============================] - 0s 2ms/step - loss: 0.3095 - accuracy: 0.8872 - val_loss: 0.2806 - val_accuracy: 0.8988\n",
      "Epoch 6/10\n",
      "88/88 [==============================] - 0s 2ms/step - loss: 0.3094 - accuracy: 0.8900 - val_loss: 0.2897 - val_accuracy: 0.9012\n",
      "Epoch 7/10\n",
      "88/88 [==============================] - 0s 2ms/step - loss: 0.3091 - accuracy: 0.8900 - val_loss: 0.2810 - val_accuracy: 0.8979\n",
      "Epoch 8/10\n",
      "88/88 [==============================] - 0s 2ms/step - loss: 0.3070 - accuracy: 0.8886 - val_loss: 0.3085 - val_accuracy: 0.8938\n",
      "Epoch 9/10\n",
      "88/88 [==============================] - 0s 2ms/step - loss: 0.3075 - accuracy: 0.8890 - val_loss: 0.2810 - val_accuracy: 0.9012\n",
      "Epoch 10/10\n",
      "88/88 [==============================] - 0s 2ms/step - loss: 0.3026 - accuracy: 0.8929 - val_loss: 0.2804 - val_accuracy: 0.8996\n"
     ]
    },
    {
     "data": {
      "text/plain": [
       "<keras.callbacks.History at 0x28a060c3460>"
      ]
     },
     "execution_count": 43,
     "metadata": {},
     "output_type": "execute_result"
    }
   ],
   "source": [
    "model.fit(X_train, y_train, epochs = 10, validation_data = (X_test, y_test))"
   ]
  },
  {
   "cell_type": "markdown",
   "id": "981ed1ad",
   "metadata": {},
   "source": [
    "## Evaluasi Model yang Telah di Training"
   ]
  },
  {
   "cell_type": "code",
   "execution_count": 44,
   "id": "5e6da426",
   "metadata": {},
   "outputs": [
    {
     "name": "stdout",
     "output_type": "stream",
     "text": [
      "38/38 [==============================] - 0s 1ms/step - loss: 0.2804 - accuracy: 0.8996\n",
      "88/88 [==============================] - 0s 1ms/step - loss: 0.3030 - accuracy: 0.8900\n",
      "----------------------------------------\n",
      "            SCORE TESTING                \n",
      "----------------------------------------\n",
      " TEST LOSS        :  0.2803877592086792\n",
      " TEST ACCURACY    :  0.8995850682258606\n",
      "----------------------------------------\n",
      "            SCORE TRAINING                \n",
      "----------------------------------------\n",
      " TEST LOSS        :  0.3029893636703491\n",
      " TEST ACCURACY    :  0.8900355696678162\n",
      "----------------------------------------\n"
     ]
    }
   ],
   "source": [
    "score_testing = model.evaluate(X_test, y_test)\n",
    "score_training = model.evaluate(X_train, y_train)\n",
    "\n",
    "print(\"\"\"----------------------------------------\n",
    "            SCORE TESTING                \n",
    "----------------------------------------\"\"\")\n",
    "print(\" TEST LOSS        : \", score_testing[0])\n",
    "print(\" TEST ACCURACY    : \", score_testing[1])\n",
    "print(\"\"\"----------------------------------------\n",
    "            SCORE TRAINING                \n",
    "----------------------------------------\"\"\")\n",
    "print(\" TEST LOSS        : \", score_training[0])\n",
    "print(\" TEST ACCURACY    : \", score_training[1])\n",
    "print(\"----------------------------------------\")"
   ]
  },
  {
   "cell_type": "markdown",
   "id": "433162f2",
   "metadata": {},
   "source": [
    "## Saving Model"
   ]
  },
  {
   "cell_type": "code",
   "execution_count": 45,
   "id": "f6b0bf25",
   "metadata": {},
   "outputs": [
    {
     "name": "stdout",
     "output_type": "stream",
     "text": [
      "INFO:tensorflow:Assets written to: model_dataset\\assets\n"
     ]
    }
   ],
   "source": [
    "model.save('model_dataset')"
   ]
  }
 ],
 "metadata": {
  "kernelspec": {
   "display_name": "Python 3 (ipykernel)",
   "language": "python",
   "name": "python3"
  },
  "language_info": {
   "codemirror_mode": {
    "name": "ipython",
    "version": 3
   },
   "file_extension": ".py",
   "mimetype": "text/x-python",
   "name": "python",
   "nbconvert_exporter": "python",
   "pygments_lexer": "ipython3",
   "version": "3.10.7"
  }
 },
 "nbformat": 4,
 "nbformat_minor": 5
}
